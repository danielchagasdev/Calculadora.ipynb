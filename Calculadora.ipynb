{
  "nbformat": 4,
  "nbformat_minor": 0,
  "metadata": {
    "colab": {
      "provenance": []
    },
    "kernelspec": {
      "name": "python3",
      "display_name": "Python 3"
    },
    "language_info": {
      "name": "python"
    }
  },
  "cells": [
    {
      "cell_type": "code",
      "execution_count": 13,
      "metadata": {
        "colab": {
          "base_uri": "https://localhost:8080/"
        },
        "id": "7G_tipZUzcsv",
        "outputId": "71acb3c9-c924-4d89-a212-95b615e0e1ce"
      },
      "outputs": [
        {
          "name": "stdout",
          "output_type": "stream",
          "text": [
            " Selecione a opção desejada: \n",
            "1, Somar\n",
            "2, Subtração\n",
            "3, Multiplicação\n",
            "4, Divisão\n",
            "Selecione a operação desejada(1/2/3/4): 4\n",
            "Informe o primeiro valor: 5\n",
            "Informe o segundo valor: 2\n",
            "5.0  /  2.0  =  2.5\n",
            "Deseja fazer outro cálculo? (sim, não)sim\n",
            "Selecione a operação desejada(1/2/3/4): 1\n",
            "Informe o primeiro valor: 5.2\n",
            "Informe o segundo valor: 5.2\n",
            "5.2  +  5.2  =  10.4\n",
            "Deseja fazer outro cálculo? (sim, não)não\n"
          ]
        }
      ],
      "source": [
        "def soma(x , y):\n",
        "  return x + y\n",
        "\n",
        "def sub(x , y):\n",
        "  return x - y\n",
        "\n",
        "def mul(x , y):\n",
        "  return x * y\n",
        "\n",
        "def div(x , y):\n",
        "  return x / y\n",
        "\n",
        "print(' Selecione a opção desejada: ')\n",
        "print('1, Somar')\n",
        "print('2, Subtração')\n",
        "print('3, Multiplicação')\n",
        "print('4, Divisão')\n",
        "\n",
        "while True:\n",
        "  choice = input('Selecione a operação desejada(1/2/3/4): ')\n",
        "\n",
        "  if choice in('1','2','3','4'):\n",
        "      num1 = float(input('Informe o primeiro valor: '))\n",
        "      num2 = float(input('Informe o segundo valor: '))\n",
        "\n",
        "      if choice == '1':\n",
        "        print(num1, ' + ', num2, ' = ', soma(num1, num2))\n",
        "\n",
        "      elif choice == '2':\n",
        "        print(num1, ' - ', num2, ' = ', sub(num1, num2))\n",
        "\n",
        "      elif choice == '3':\n",
        "        print(num1, ' * ', num2, ' = ', mul(num1, num2))\n",
        "\n",
        "      elif choice == '4':\n",
        "        print(num1, ' / ', num2, ' = ', div(num1, num2))\n",
        "\n",
        "      next_calculadora = input('Deseja fazer outro cálculo? (sim, não)')\n",
        "      if next_calculadora == 'não':\n",
        "        break\n",
        "\n",
        "  else:\n",
        "    print('Opção inválida')\n",
        "\n"
      ]
    }
  ]
}